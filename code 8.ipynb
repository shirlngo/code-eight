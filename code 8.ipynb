{
 "cells": [
  {
   "cell_type": "code",
   "execution_count": 2,
   "id": "fdf33bd8",
   "metadata": {},
   "outputs": [],
   "source": [
    "data_points = [\n",
    "\n",
    "    (2000, 72.5),\n",
    "\n",
    "    (2001, 73.1),\n",
    "\n",
    "    (2002, 73.8),\n",
    "\n",
    "    (2003, 74.2),\n",
    "\n",
    "    (2004, 74.7),\n",
    "\n",
    "    (2005, 75.3),\n",
    "\n",
    "    (2006, 75.9),\n",
    "\n",
    "    (2007, 76.5),\n",
    "\n",
    "    (2008, 76.9),\n",
    "\n",
    "    (2009, 77.4),\n",
    "\n",
    "    (2010, 78.0),\n",
    "\n",
    "    (2011, 78.5),\n",
    "\n",
    "    (2012, 79.0),\n",
    "\n",
    "    (2013, 79.5),\n",
    "\n",
    "    (2014, 80.0),\n",
    "\n",
    "    (2015, 80.5),\n",
    "\n",
    "    (2016, 81.0),\n",
    "\n",
    "    (2017, 81.5),\n",
    "\n",
    "    (2018, 82.0),\n",
    "\n",
    "    (2019, 82.5)\n",
    "\n",
    "]"
   ]
  },
  {
   "cell_type": "code",
   "execution_count": 3,
   "id": "cfc7a6bc",
   "metadata": {},
   "outputs": [
    {
     "name": "stdout",
     "output_type": "stream",
     "text": [
      "[2000, 2001, 2002, 2003, 2004, 2005, 2006, 2007, 2008, 2009, 2010, 2011, 2012, 2013, 2014, 2015, 2016, 2017, 2018, 2019]\n",
      "[72.5, 73.1, 73.8, 74.2, 74.7, 75.3, 75.9, 76.5, 76.9, 77.4, 78.0, 78.5, 79.0, 79.5, 80.0, 80.5, 81.0, 81.5, 82.0, 82.5]\n"
     ]
    }
   ],
   "source": [
    "# First method using a for loop\n",
    "years = []\n",
    "expectancies = []\n",
    "\n",
    "for year, expectancy in data_points:\n",
    "    years.append(year)\n",
    "    expectancies.append(expectancy)\n",
    "    \n",
    "print(years)\n",
    "print(expectancies)"
   ]
  },
  {
   "cell_type": "code",
   "execution_count": 4,
   "id": "57366125",
   "metadata": {},
   "outputs": [
    {
     "name": "stdout",
     "output_type": "stream",
     "text": [
      "[2000, 2001, 2002, 2003, 2004, 2005, 2006, 2007, 2008, 2009, 2010, 2011, 2012, 2013, 2014, 2015, 2016, 2017, 2018, 2019]\n",
      "[72.5, 73.1, 73.8, 74.2, 74.7, 75.3, 75.9, 76.5, 76.9, 77.4, 78.0, 78.5, 79.0, 79.5, 80.0, 80.5, 81.0, 81.5, 82.0, 82.5]\n"
     ]
    }
   ],
   "source": [
    "# List comprehension\n",
    "\n",
    "years = [year for year, _ in data_points]\n",
    "expectancies = [expectancy for _, expectancy in data_points]\n",
    "\n",
    "print(years)\n",
    "print(expectancies)"
   ]
  },
  {
   "cell_type": "code",
   "execution_count": 5,
   "id": "1de13a06",
   "metadata": {},
   "outputs": [
    {
     "name": "stdout",
     "output_type": "stream",
     "text": [
      "{2000: 72.5, 2001: 73.1, 2002: 73.8, 2003: 74.2, 2004: 74.7, 2005: 75.3, 2006: 75.9, 2007: 76.5, 2008: 76.9, 2009: 77.4, 2010: 78.0, 2011: 78.5, 2012: 79.0, 2013: 79.5, 2014: 80.0, 2015: 80.5, 2016: 81.0, 2017: 81.5, 2018: 82.0, 2019: 82.5}\n"
     ]
    }
   ],
   "source": [
    "data_dict = dict(zip(years, expectancies))\n",
    "print(data_dict)"
   ]
  },
  {
   "cell_type": "code",
   "execution_count": 6,
   "id": "dfbb7507",
   "metadata": {},
   "outputs": [
    {
     "name": "stdout",
     "output_type": "stream",
     "text": [
      "{2000: 72.5, 2001: 73.1, 2002: 73.8, 2003: 74.2, 2004: 74.7, 2005: 75.3, 2006: 75.9, 2007: 76.5, 2008: 76.9, 2009: 77.4, 2010: 78.0, 2011: 78.5, 2012: 79.0, 2013: 79.5, 2014: 80.0, 2015: 80.5, 2016: 81.0, 2017: 81.5, 2018: 82.0, 2019: 82.5}\n"
     ]
    }
   ],
   "source": [
    "data_dict2 = {}\n",
    "\n",
    "for item in data_points:\n",
    "    key, value = item\n",
    "    data_dict2[key] = value\n",
    "    \n",
    "print(data_dict2)"
   ]
  },
  {
   "cell_type": "code",
   "execution_count": 7,
   "id": "22529806",
   "metadata": {},
   "outputs": [],
   "source": [
    "# Code 8 assignment \n",
    "data_list = [('apple', 5), ('banana', 2), ('orange', 8), ('grapes', 3), ('pineapple', 1)]\n",
    "\n",
    "def convert_to_dictionary(data_list):\n",
    "    result_dict = {}\n",
    "    for item in data_list:\n",
    "        key, value = item\n",
    "        result_dict[key] = value\n",
    "    return result_dict"
   ]
  },
  {
   "cell_type": "code",
   "execution_count": 8,
   "id": "712dfe48",
   "metadata": {},
   "outputs": [
    {
     "name": "stdout",
     "output_type": "stream",
     "text": [
      "Original Data Type :  [('apple', 5), ('banana', 2), ('orange', 8), ('grapes', 3), ('pineapple', 1)]\n",
      "Converted Data Type:  {'apple': 5, 'banana': 2, 'orange': 8, 'grapes': 3, 'pineapple': 1}\n"
     ]
    }
   ],
   "source": [
    "# Using function for conversion\n",
    "convert_dict = convert_to_dictionary(data_list)\n",
    "\n",
    "print(\"Original Data Type : \", data_list)\n",
    "print(\"Converted Data Type: \", convert_dict)"
   ]
  },
  {
   "cell_type": "code",
   "execution_count": null,
   "id": "5061b4a8",
   "metadata": {},
   "outputs": [],
   "source": []
  }
 ],
 "metadata": {
  "kernelspec": {
   "display_name": "Python 3 (ipykernel)",
   "language": "python",
   "name": "python3"
  },
  "language_info": {
   "codemirror_mode": {
    "name": "ipython",
    "version": 3
   },
   "file_extension": ".py",
   "mimetype": "text/x-python",
   "name": "python",
   "nbconvert_exporter": "python",
   "pygments_lexer": "ipython3",
   "version": "3.11.4"
  }
 },
 "nbformat": 4,
 "nbformat_minor": 5
}
